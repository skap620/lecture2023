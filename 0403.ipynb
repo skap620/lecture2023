{
  "nbformat": 4,
  "nbformat_minor": 0,
  "metadata": {
    "colab": {
      "provenance": [],
      "authorship_tag": "ABX9TyNt7rDuM5pMg2D0Q+7KA4hS",
      "include_colab_link": true
    },
    "kernelspec": {
      "name": "python3",
      "display_name": "Python 3"
    },
    "language_info": {
      "name": "python"
    }
  },
  "cells": [
    {
      "cell_type": "markdown",
      "metadata": {
        "id": "view-in-github",
        "colab_type": "text"
      },
      "source": [
        "<a href=\"https://colab.research.google.com/github/skap620/lecture2023/blob/main/0403.ipynb\" target=\"_parent\"><img src=\"https://colab.research.google.com/assets/colab-badge.svg\" alt=\"Open In Colab\"/></a>"
      ]
    },
    {
      "cell_type": "code",
      "execution_count": 3,
      "metadata": {
        "colab": {
          "base_uri": "https://localhost:8080/"
        },
        "id": "F0v02NOUPP5M",
        "outputId": "f3eed391-a64c-4e32-cf38-04856cc7868a"
      },
      "outputs": [
        {
          "output_type": "stream",
          "name": "stdout",
          "text": [
            "에스파\n",
            "아이브\n",
            "아이즈원\n",
            "뉴진스\n",
            "잇지\n",
            "여자아이들\n"
          ]
        }
      ],
      "source": [
        "# idol = [\"에스파\",\"아이브\",\"뉴진스\",\"잇지\"]\n",
        "\n",
        "class Node(): # 클래스 선언으로 빈칸 만들기\n",
        "  def __init__(self):\n",
        "    self.data = None\n",
        "    self.link = None\n",
        "\n",
        "n0 = Node()\n",
        "n0.data = \"에스파\"\n",
        "\n",
        "n1 = Node()\n",
        "n1.data = \"아이브\"\n",
        "\n",
        "n2 = Node()\n",
        "n2.data = \"뉴진스\"\n",
        "\n",
        "n3 = Node()\n",
        "n3.data = \"잇지\"\n",
        "\n",
        "n4 = Node()\n",
        "n4.data = \"여자아이들\"\n",
        "\n",
        "n0.link = n1 # 연결 시키기\n",
        "n1.link = n2\n",
        "n2.link = n3\n",
        "n3.link = n4\n",
        "  \n",
        "head = n0 # 첫 노드를 head로 가리키도록 습관화 \n",
        "\n",
        "def insert(a,b):\n",
        "  n = Node()\n",
        "  n.data = b\n",
        "\n",
        "  current = head\n",
        "  for i in range(0,a-1):\n",
        "    current = current.link\n",
        "\n",
        "  n.link = current.link\n",
        "  current.link = n\n",
        "\n",
        "insert(2, \"아이즈원\")\n",
        "\n",
        "def delete(a):\n",
        "  current = head\n",
        "  for i in range(0,a-1):\n",
        "    current = current.link\n",
        "\n",
        "  current.link = current.link.link\n",
        "\n",
        "#출력문\n",
        "current = n0\n",
        "while current.link != None:\n",
        "  print(current.data)\n",
        "  current = current.link\n",
        "print(current.data)"
      ]
    }
  ]
}