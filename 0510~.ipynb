{
  "nbformat": 4,
  "nbformat_minor": 0,
  "metadata": {
    "colab": {
      "provenance": [],
      "authorship_tag": "ABX9TyOiNrIpiLo0ygIY9Y8Dq4MA",
      "include_colab_link": true
    },
    "kernelspec": {
      "name": "python3",
      "display_name": "Python 3"
    },
    "language_info": {
      "name": "python"
    }
  },
  "cells": [
    {
      "cell_type": "markdown",
      "metadata": {
        "id": "view-in-github",
        "colab_type": "text"
      },
      "source": [
        "<a href=\"https://colab.research.google.com/github/skap620/lecture2023/blob/main/0510~.ipynb\" target=\"_parent\"><img src=\"https://colab.research.google.com/assets/colab-badge.svg\" alt=\"Open In Colab\"/></a>"
      ]
    },
    {
      "cell_type": "code",
      "execution_count": null,
      "metadata": {
        "id": "GUup96Uv5Wvd"
      },
      "outputs": [],
      "source": [
        "class treeNode:\n",
        "  def __init__(self.data):\n",
        "    self.data = data\n",
        "    self.left = None\n",
        "    self.right = None\n",
        "\n",
        "def searchTree(data):\n",
        "  global root\n",
        "  current = root\n",
        "  if current == None:\n",
        "    print(\"not found\"+str(data))\n",
        "    return True\n",
        "  else:\n",
        "    if data < current.data:\n",
        "      if current.left == None:\n",
        "        print(\"not found\"+str(data))\n",
        "        return false\n",
        "      current = current.left\n",
        "    else:\n",
        "      if current.right == None:\n",
        "        print(\"not found\"+str(data))\n",
        "        return false\n",
        "      current = current.right\n",
        "\n",
        "def insertTree(data):\n",
        "  global root"
      ]
    }
  ]
}