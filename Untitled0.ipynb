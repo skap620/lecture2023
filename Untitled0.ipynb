{
  "nbformat": 4,
  "nbformat_minor": 0,
  "metadata": {
    "colab": {
      "provenance": [],
      "authorship_tag": "ABX9TyNZMWvFetBMBWCI5b+DqXVD",
      "include_colab_link": true
    },
    "kernelspec": {
      "name": "python3",
      "display_name": "Python 3"
    },
    "language_info": {
      "name": "python"
    }
  },
  "cells": [
    {
      "cell_type": "markdown",
      "metadata": {
        "id": "view-in-github",
        "colab_type": "text"
      },
      "source": [
        "<a href=\"https://colab.research.google.com/github/skap620/lecture2023/blob/main/Untitled0.ipynb\" target=\"_parent\"><img src=\"https://colab.research.google.com/assets/colab-badge.svg\" alt=\"Open In Colab\"/></a>"
      ]
    },
    {
      "cell_type": "code",
      "execution_count": 5,
      "metadata": {
        "colab": {
          "base_uri": "https://localhost:8080/"
        },
        "id": "ZdjAy_FPdiEV",
        "outputId": "88f1bb02-275d-4cf7-b965-5f7752d46098"
      },
      "outputs": [
        {
          "output_type": "stream",
          "name": "stdout",
          "text": [
            "3\n",
            "7\n",
            "9\n",
            "10\n",
            "21\n",
            "34\n",
            "46\n",
            "55\n",
            "82\n",
            "99\n"
          ]
        }
      ],
      "source": [
        "#@title Bubble Sort\n",
        "a = [99, 34, 55, 7, 82, 21, 9, 10,3, 46]\n",
        "\n",
        "for j in range(10):\n",
        "  for i in range(0,9):\n",
        "    if(a[i]>a[i+1]):\n",
        "      temp = a[i]\n",
        "      a[i] = a[i+1]\n",
        "      a[i+1] =temp\n",
        "\n",
        "for i in range(0,10):\n",
        "  print(a[i]) "
      ]
    },
    {
      "cell_type": "code",
      "source": [
        "#@title Selection Sort\n",
        "\n",
        "\n"
      ],
      "metadata": {
        "id": "BGHfcYsMf0Lc"
      },
      "execution_count": null,
      "outputs": []
    }
  ]
}