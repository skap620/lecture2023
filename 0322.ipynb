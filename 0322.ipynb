{
  "nbformat": 4,
  "nbformat_minor": 0,
  "metadata": {
    "colab": {
      "provenance": [],
      "authorship_tag": "ABX9TyPS+0VrevYEPBz//zGcavF5",
      "include_colab_link": true
    },
    "kernelspec": {
      "name": "python3",
      "display_name": "Python 3"
    },
    "language_info": {
      "name": "python"
    }
  },
  "cells": [
    {
      "cell_type": "markdown",
      "metadata": {
        "id": "view-in-github",
        "colab_type": "text"
      },
      "source": [
        "<a href=\"https://colab.research.google.com/github/skap620/lecture2023/blob/main/0322.ipynb\" target=\"_parent\"><img src=\"https://colab.research.google.com/assets/colab-badge.svg\" alt=\"Open In Colab\"/></a>"
      ]
    },
    {
      "cell_type": "markdown",
      "source": [
        "Copyright 이가영, 3/22, c40502446@gmail.com"
      ],
      "metadata": {
        "id": "Mit49dOmf4GS"
      }
    },
    {
      "cell_type": "code",
      "source": [
        "a = [1, 3, 5, 7, 9]\n",
        "a.append(\"hi\") #추가한다는 의미\n",
        "print(a)\n",
        "\n",
        "print(a[2:5])\n",
        "\n",
        "len(a)"
      ],
      "metadata": {
        "colab": {
          "base_uri": "https://localhost:8080/"
        },
        "id": "gckvy_ywgDCm",
        "outputId": "c3bbd663-c3d4-418e-a7a0-1565eeed229b"
      },
      "execution_count": 4,
      "outputs": [
        {
          "output_type": "stream",
          "name": "stdout",
          "text": [
            "[1, 3, 5, 7, 9, 'hi']\n",
            "[5, 7, 9]\n"
          ]
        },
        {
          "output_type": "execute_result",
          "data": {
            "text/plain": [
              "6"
            ]
          },
          "metadata": {},
          "execution_count": 4
        }
      ]
    },
    {
      "cell_type": "code",
      "source": [
        "A = []\n",
        "A.append(0)\n",
        "A.append(1)\n",
        "A.append(2)\n",
        "A.append(3)\n",
        "A.append(4)\n",
        "\n",
        "A[1:3]"
      ],
      "metadata": {
        "colab": {
          "base_uri": "https://localhost:8080/"
        },
        "id": "E0H9_upCiOsN",
        "outputId": "4cb96c43-6294-4840-faf3-0215482edeb8"
      },
      "execution_count": null,
      "outputs": [
        {
          "output_type": "execute_result",
          "data": {
            "text/plain": [
              "[1, 2]"
            ]
          },
          "metadata": {},
          "execution_count": 25
        }
      ]
    },
    {
      "cell_type": "code",
      "source": [
        "s = [\"에스파\", \"아이브\", \"뉴진스\", \"잇지\"]\n",
        "print(s[-1]) #역순을 의미한다 \n",
        "s.append(\"트와이스\") #제일 끝에 추가한다 \n",
        "s[1] = \"유진\" #아이브가 유진으로 교체된다 \n",
        "print(s)\n",
        "del(s[1]) # 유진을 삭제한다 \n",
        "s"
      ],
      "metadata": {
        "colab": {
          "base_uri": "https://localhost:8080/"
        },
        "id": "a42BcmhckCkn",
        "outputId": "01680a57-0f7e-43a2-9269-8785c971f2f0"
      },
      "execution_count": 16,
      "outputs": [
        {
          "output_type": "stream",
          "name": "stdout",
          "text": [
            "잇지\n",
            "['에스파', '유진', '뉴진스', '잇지', '트와이스']\n"
          ]
        },
        {
          "output_type": "execute_result",
          "data": {
            "text/plain": [
              "['에스파', '뉴진스', '잇지', '트와이스']"
            ]
          },
          "metadata": {},
          "execution_count": 16
        }
      ]
    },
    {
      "cell_type": "code",
      "source": [
        "a=[99,3,22,0]\n",
        "a.append(88) #88 맨 뒤에 추가\n",
        "a.pop() #88 다시 없애기\n",
        "a.sort() # 정렬\n",
        "print(a)\n",
        "a.reverse() #반대로\n",
        "print(a)\n",
        "print(a.index(22)) #1 출력 (22가 들어있는 인덱스 출력)\n",
        "a.insert(3, 1) #3번 인덱스 자리에 1 삽입\n",
        "print(a)\n",
        "print(a.count(3))\n",
        "a.clear() #초기화\n",
        "a"
      ],
      "metadata": {
        "colab": {
          "base_uri": "https://localhost:8080/"
        },
        "id": "TkkOfYqgkxaf",
        "outputId": "bba95218-49dc-49ea-81c7-ca37f4398ca2"
      },
      "execution_count": 21,
      "outputs": [
        {
          "output_type": "stream",
          "name": "stdout",
          "text": [
            "[0, 3, 22, 99]\n",
            "[99, 22, 3, 0]\n",
            "1\n",
            "[99, 22, 3, 1, 0]\n",
            "1\n"
          ]
        },
        {
          "output_type": "execute_result",
          "data": {
            "text/plain": [
              "[]"
            ]
          },
          "metadata": {},
          "execution_count": 21
        }
      ]
    },
    {
      "cell_type": "markdown",
      "source": [
        "Copyright, 이가영, 3/22, c40502446@gmail.com"
      ],
      "metadata": {
        "id": "qcbFEu4Hn4Jn"
      }
    },
    {
      "cell_type": "code",
      "source": [
        "idol = [\"에스파\", \"아이브\", \"뉴진스\", \"잇지\"]\n",
        "\n",
        "def Myappend(a):\n",
        "  idol.append(a)\n",
        "\n",
        "#pop()함수 만들기\n",
        "def Mypop():\n",
        "  x = idol[len(idol)-1]\n",
        "  del(idol[len(idol)-1])\n",
        "  return x\n",
        "\n",
        "#인덱스 함수 만들기 \n",
        "def Myindex(a):\n",
        "  for i in range(0, len(idol), 1) :\n",
        "    if (idol[i] == a):\n",
        "      break\n",
        "    return\n",
        "\n",
        "#insert()함수 만들기 \n",
        "def Myinsert(a, b):\n",
        "  idol.append(None)\n",
        "\n",
        "  for i in range(len(idol)-1, a, -1):\n",
        "    idol[i] = idol[i-1]\n",
        "\n",
        "  idol[a] = b\n",
        "\n",
        "#def Myremove(a):\n",
        "\n",
        "def Mylen():\n",
        "  len(idol)\n",
        "\n",
        "def Myswap(a, b):\n",
        "  temp = 0\n",
        "  idol[temp] = idol[a]\n",
        "  idol[a] = idol [b]\n",
        "  idol[b] = idol[temp]\n",
        "\n",
        "print(Mylen())\n",
        "print(Myswap(0,1))"
      ],
      "metadata": {
        "colab": {
          "base_uri": "https://localhost:8080/"
        },
        "id": "1qw6_k_4mPCR",
        "outputId": "29b0bcb5-08bc-4aed-d2b5-b3eabbbb412e"
      },
      "execution_count": null,
      "outputs": [
        {
          "output_type": "stream",
          "name": "stdout",
          "text": [
            "None\n",
            "None\n"
          ]
        }
      ]
    },
    {
      "cell_type": "code",
      "source": [
        "idol = [\"에스파\", \"아이브\", \"뉴진스\", \"잇지\"]\n",
        "\n",
        "def Myappend(a):\n",
        "  idol.append(a)\n",
        "\n",
        "def Mylen():\n",
        "  return len(idol)\n",
        "\n",
        "# pop()\n",
        "def Mypop():\n",
        "  del (idol[Mylen()-1])\n",
        "\n",
        "Myappend(\"한유진\")\n",
        "Mypop()\n",
        "idol\n",
        "\n",
        "#reverse\n",
        "#def Myreverse():"
      ],
      "metadata": {
        "id": "WgfuQnKO7X6Q",
        "outputId": "5ce3956f-c550-4f16-e906-fc8456de27f9",
        "colab": {
          "base_uri": "https://localhost:8080/"
        }
      },
      "execution_count": 45,
      "outputs": [
        {
          "output_type": "execute_result",
          "data": {
            "text/plain": [
              "['에스파', '아이브', '뉴진스', '잇지']"
            ]
          },
          "metadata": {},
          "execution_count": 45
        }
      ]
    },
    {
      "cell_type": "code",
      "source": [
        "arr = []\n",
        "for i in range (0, 4):\n",
        "  arr.append(int(input(\"정수 입력:\")))\n",
        "\n",
        "def Mysort():\n",
        "  temp = 0\n",
        "  for i in range(0, len(arr), 1):\n",
        "    if arr[i] > arr[i+1]:\n",
        "      arr[temp] = arr[i]\n",
        "      arr[i] = arr[i+1]\n",
        "      arr[i+1] = arr[temp]\n",
        "arr.Mysort()\n",
        "\n",
        "sum = arr[3] - arr[0]\n",
        "print(sum)"
      ],
      "metadata": {
        "colab": {
          "base_uri": "https://localhost:8080/",
          "height": 299
        },
        "id": "HF2zePfNt_3k",
        "outputId": "545c6b9b-f5c6-4939-96f8-751d01e3998d"
      },
      "execution_count": null,
      "outputs": [
        {
          "name": "stdout",
          "output_type": "stream",
          "text": [
            "정수 입력:3\n",
            "정수 입력:1\n",
            "정수 입력:\n"
          ]
        },
        {
          "output_type": "error",
          "ename": "ValueError",
          "evalue": "ignored",
          "traceback": [
            "\u001b[0;31m---------------------------------------------------------------------------\u001b[0m",
            "\u001b[0;31mValueError\u001b[0m                                Traceback (most recent call last)",
            "\u001b[0;32m<ipython-input-56-30908b7327e5>\u001b[0m in \u001b[0;36m<module>\u001b[0;34m\u001b[0m\n\u001b[1;32m      1\u001b[0m \u001b[0marr\u001b[0m \u001b[0;34m=\u001b[0m \u001b[0;34m[\u001b[0m\u001b[0;34m]\u001b[0m\u001b[0;34m\u001b[0m\u001b[0;34m\u001b[0m\u001b[0m\n\u001b[1;32m      2\u001b[0m \u001b[0;32mfor\u001b[0m \u001b[0mi\u001b[0m \u001b[0;32min\u001b[0m \u001b[0mrange\u001b[0m \u001b[0;34m(\u001b[0m\u001b[0;36m0\u001b[0m\u001b[0;34m,\u001b[0m \u001b[0;36m4\u001b[0m\u001b[0;34m)\u001b[0m\u001b[0;34m:\u001b[0m\u001b[0;34m\u001b[0m\u001b[0;34m\u001b[0m\u001b[0m\n\u001b[0;32m----> 3\u001b[0;31m   \u001b[0marr\u001b[0m\u001b[0;34m.\u001b[0m\u001b[0mappend\u001b[0m\u001b[0;34m(\u001b[0m\u001b[0mint\u001b[0m\u001b[0;34m(\u001b[0m\u001b[0minput\u001b[0m\u001b[0;34m(\u001b[0m\u001b[0;34m\"정수 입력:\"\u001b[0m\u001b[0;34m)\u001b[0m\u001b[0;34m)\u001b[0m\u001b[0;34m)\u001b[0m\u001b[0;34m\u001b[0m\u001b[0;34m\u001b[0m\u001b[0m\n\u001b[0m\u001b[1;32m      4\u001b[0m \u001b[0;34m\u001b[0m\u001b[0m\n\u001b[1;32m      5\u001b[0m \u001b[0;32mdef\u001b[0m \u001b[0mMysort\u001b[0m\u001b[0;34m(\u001b[0m\u001b[0;34m)\u001b[0m\u001b[0;34m:\u001b[0m\u001b[0;34m\u001b[0m\u001b[0;34m\u001b[0m\u001b[0m\n",
            "\u001b[0;31mValueError\u001b[0m: invalid literal for int() with base 10: ''"
          ]
        }
      ]
    }
  ]
}