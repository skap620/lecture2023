{
  "nbformat": 4,
  "nbformat_minor": 0,
  "metadata": {
    "colab": {
      "provenance": [],
      "authorship_tag": "ABX9TyMVqBg/bmhm/IUBelJuQgE9",
      "include_colab_link": true
    },
    "kernelspec": {
      "name": "python3",
      "display_name": "Python 3"
    },
    "language_info": {
      "name": "python"
    }
  },
  "cells": [
    {
      "cell_type": "markdown",
      "metadata": {
        "id": "view-in-github",
        "colab_type": "text"
      },
      "source": [
        "<a href=\"https://colab.research.google.com/github/skap620/lecture2023/blob/main/0517~(Heap).ipynb\" target=\"_parent\"><img src=\"https://colab.research.google.com/assets/colab-badge.svg\" alt=\"Open In Colab\"/></a>"
      ]
    },
    {
      "cell_type": "code",
      "execution_count": 6,
      "metadata": {
        "colab": {
          "base_uri": "https://localhost:8080/"
        },
        "id": "m7WEupS05wQx",
        "outputId": "b719194e-afb3-42c5-d2c4-76555b9bb828"
      },
      "outputs": [
        {
          "output_type": "stream",
          "name": "stdout",
          "text": [
            "1\n",
            "3\n",
            "5\n",
            "10\n"
          ]
        }
      ],
      "source": [
        "#Heap 더미 = Priority Queue 우선순위 큐\n",
        "\n",
        "from queue import PriorityQueue\n",
        "\n",
        "Q = PriorityQueue()\n",
        "Q.put(10)\n",
        "Q.put(1)\n",
        "Q.put(5)\n",
        "Q.put(3)\n",
        "\n",
        "print(Q.get()) #가장 작은걸 갖고옴\n",
        "print(Q.get())\n",
        "print(Q.get())\n",
        "print(Q.get())\n",
        "\n",
        "#가장 큰 값부터 나오게 하려면 put할때 -1곱하면됨\n",
        "\n",
        "\n",
        "\n",
        "\n"
      ]
    }
  ]
}