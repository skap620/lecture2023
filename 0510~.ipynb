{
  "nbformat": 4,
  "nbformat_minor": 0,
  "metadata": {
    "colab": {
      "provenance": [],
      "authorship_tag": "ABX9TyMt7WxXqzP01LmEC6Ks3Jw2",
      "include_colab_link": true
    },
    "kernelspec": {
      "name": "python3",
      "display_name": "Python 3"
    },
    "language_info": {
      "name": "python"
    }
  },
  "cells": [
    {
      "cell_type": "markdown",
      "metadata": {
        "id": "view-in-github",
        "colab_type": "text"
      },
      "source": [
        "<a href=\"https://colab.research.google.com/github/skap620/lecture2023/blob/main/0510~.ipynb\" target=\"_parent\"><img src=\"https://colab.research.google.com/assets/colab-badge.svg\" alt=\"Open In Colab\"/></a>"
      ]
    },
    {
      "cell_type": "code",
      "execution_count": 7,
      "metadata": {
        "colab": {
          "base_uri": "https://localhost:8080/"
        },
        "id": "GUup96Uv5Wvd",
        "outputId": "bb4d8736-48ff-4df4-dd40-8642e9858231"
      },
      "outputs": [
        {
          "output_type": "stream",
          "name": "stdout",
          "text": [
            "not found 10\n",
            "not found 12\n",
            "not found 5\n",
            "not found 4\n",
            "not found 20\n",
            "not found 8\n",
            "4\n",
            "5\n",
            "8\n",
            "10\n",
            "12\n",
            "20\n"
          ]
        }
      ],
      "source": [
        "#회원가입 코드\n",
        "class treeNode:\n",
        "  def __init__(self,data):\n",
        "    self.data = data\n",
        "    self.left = None\n",
        "    self.right = None\n",
        "\n",
        "def searchTree(data):\n",
        "  global root\n",
        "  current = root\n",
        "  if current == None:\n",
        "    print(\"not found \"+str(data))\n",
        "    return False\n",
        "\n",
        "  while True:\n",
        "    if data == current.data:\n",
        "      print(\"find \" + str(data))\n",
        "      return True\n",
        "    else:\n",
        "      if data < current.data:\n",
        "        if current.left == None:\n",
        "          print(\"not found \"+str(data))\n",
        "          return False\n",
        "        current = current.left\n",
        "      else:\n",
        "        if current.right == None:\n",
        "          print(\"not found \"+str(data))\n",
        "          return False\n",
        "        current = current.right\n",
        "\n",
        "def insertTree(data):\n",
        "  global root\n",
        "\n",
        "  if searchTree(data):\n",
        "    print(\"Alreade exist \" + str(data))\n",
        "    return\n",
        "\n",
        "  n = treeNode(data)\n",
        "  if root ==None:\n",
        "    root = n\n",
        "    return\n",
        "\n",
        "  current = root\n",
        "  while True:\n",
        "    if data < current.data:\n",
        "      if current.left == None:\n",
        "        current.left = n\n",
        "        break\n",
        "      current = current.left\n",
        "    else:\n",
        "      if current.right==None:\n",
        "        current.right = n\n",
        "        break\n",
        "      current = current.right\n",
        "\n",
        "def inorder(n):\n",
        "  if n == None:\n",
        "    return\n",
        "  inorder(n.left)\n",
        "  print(n.data)\n",
        "  inorder(n.right)\n",
        "\n",
        "\n",
        "root = None\n",
        "insertTree(10)\n",
        "insertTree(12)\n",
        "insertTree(5)\n",
        "insertTree(4)\n",
        "insertTree(20)\n",
        "insertTree(8)\n",
        "inorder(root)"
      ]
    }
  ]
}