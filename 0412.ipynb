{
  "nbformat": 4,
  "nbformat_minor": 0,
  "metadata": {
    "colab": {
      "provenance": [],
      "authorship_tag": "ABX9TyPtMcwZN2LgAk7xJ5+tAZoS",
      "include_colab_link": true
    },
    "kernelspec": {
      "name": "python3",
      "display_name": "Python 3"
    },
    "language_info": {
      "name": "python"
    }
  },
  "cells": [
    {
      "cell_type": "markdown",
      "metadata": {
        "id": "view-in-github",
        "colab_type": "text"
      },
      "source": [
        "<a href=\"https://colab.research.google.com/github/skap620/lecture2023/blob/main/0412.ipynb\" target=\"_parent\"><img src=\"https://colab.research.google.com/assets/colab-badge.svg\" alt=\"Open In Colab\"/></a>"
      ]
    },
    {
      "cell_type": "code",
      "execution_count": 6,
      "metadata": {
        "colab": {
          "base_uri": "https://localhost:8080/"
        },
        "id": "tJppBAYT4VLA",
        "outputId": "bb287260-33e1-4c4f-96fc-ccd94a7b351a"
      },
      "outputs": [
        {
          "output_type": "stream",
          "name": "stdout",
          "text": [
            "Stack is full!\n",
            "잇지\n",
            "아이즈원\n"
          ]
        }
      ],
      "source": [
        "FULL = 4\n",
        "stack = [\"에스파\",\"아이브\",\"뉴진스\",\"잇지\"]\n",
        "top=3\n",
        "\n",
        "#isStackFull\n",
        "def isStackFull():\n",
        "  global FULL,stack,top\n",
        "  if (top>=FULL-1):\n",
        "    return True\n",
        "  else:\n",
        "    return False\n",
        "\n",
        "#isStackEmpty\n",
        "def isStackEmpty():\n",
        "  global FULL,stack,top\n",
        "  if (top<=1):\n",
        "    return True\n",
        "  else:\n",
        "    return False\n",
        "\n",
        "#push(값)\n",
        "def push(a):\n",
        "  global FULL,stack,top\n",
        "  if(isStackFull()):\n",
        "    print(\"Stack is full!\")\n",
        "    return\n",
        "  top += 1\n",
        "  stack[top] = a\n",
        "\n",
        "push(\"aa\")\n",
        "\n",
        "#pop()\n",
        "def pop():\n",
        "  global FULL,stack,top\n",
        "  if(isStackEmpty()):\n",
        "    print(\"Stack id empty!\")\n",
        "    return None\n",
        "  a = stack[top]\n",
        "  stack[top] = None\n",
        "  top -= 1\n",
        "  return a\n",
        "\n",
        "print(pop())\n",
        "push(\"아이즈원\")\n",
        "print(pop())"
      ]
    }
  ]
}