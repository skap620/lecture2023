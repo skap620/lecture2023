{
  "cells": [
    {
      "cell_type": "markdown",
      "metadata": {
        "id": "view-in-github",
        "colab_type": "text"
      },
      "source": [
        "<a href=\"https://colab.research.google.com/github/skap620/lecture2023/blob/main/0308%EC%9E%90%EB%A3%8C%EA%B5%AC%EC%A1%B0.ipynb\" target=\"_parent\"><img src=\"https://colab.research.google.com/assets/colab-badge.svg\" alt=\"Open In Colab\"/></a>"
      ]
    },
    {
      "cell_type": "code",
      "source": [
        "i = 0\n",
        "f = 2.22\n",
        "c = 'c'\n",
        "s = \"string\"\n",
        "b = True\n",
        "print(i)\n",
        "print(s)"
      ],
      "metadata": {
        "colab": {
          "base_uri": "https://localhost:8080/"
        },
        "id": "Yvk1kD6Kbu68",
        "outputId": "aaafaefe-1b03-44da-8ff2-0cdff67e771f"
      },
      "execution_count": null,
      "outputs": [
        {
          "output_type": "stream",
          "name": "stdout",
          "text": [
            "0\n",
            "string\n"
          ]
        }
      ]
    },
    {
      "cell_type": "code",
      "source": [
        "i = input()\n",
        "s = input()\n",
        "print(i)\n",
        "print(s)"
      ],
      "metadata": {
        "colab": {
          "base_uri": "https://localhost:8080/"
        },
        "id": "mZSolDgGdINl",
        "outputId": "0f4d9a5c-430f-44c2-e827-1759069b0a9e"
      },
      "execution_count": null,
      "outputs": [
        {
          "output_type": "stream",
          "name": "stdout",
          "text": [
            "4\n",
            "5\n",
            "4\n",
            "5\n"
          ]
        }
      ]
    },
    {
      "cell_type": "code",
      "source": [
        "i = input()\n",
        "#print(i+1) #ERROR 문자 취급하므로\n",
        "x = int(i) # x=int(input())\n",
        "print(x+1)\n",
        "s = str(x)\n",
        "print(s)"
      ],
      "metadata": {
        "colab": {
          "base_uri": "https://localhost:8080/"
        },
        "id": "CFXm4RpzdaZc",
        "outputId": "f6187784-23cd-4fa2-9566-0bef7cf132c1"
      },
      "execution_count": null,
      "outputs": [
        {
          "output_type": "stream",
          "name": "stdout",
          "text": [
            "1\n",
            "2\n",
            "1\n"
          ]
        }
      ]
    },
    {
      "cell_type": "code",
      "source": [
        "i = int(input())\n",
        "if (i<10) :\n",
        "  print(\"low\")\n",
        "else :\n",
        "  print(\"hi\")"
      ],
      "metadata": {
        "colab": {
          "base_uri": "https://localhost:8080/"
        },
        "id": "SKogH94feYyn",
        "outputId": "5cbc5f53-e92d-4563-bd98-5d6b58c84b74"
      },
      "execution_count": null,
      "outputs": [
        {
          "output_type": "stream",
          "name": "stdout",
          "text": [
            "10\n",
            "hi\n"
          ]
        }
      ]
    },
    {
      "cell_type": "code",
      "source": [
        "#for 변수 in range (시작값, 끝값+1, 증가값) :\n",
        "#    반복될 코드\n",
        "\n",
        "for i in range (1, 6, 1) :\n",
        "  print(i)"
      ],
      "metadata": {
        "colab": {
          "base_uri": "https://localhost:8080/"
        },
        "id": "0SiV-axlfNW8",
        "outputId": "752687ac-3597-47dc-f88a-b5005389f8f4"
      },
      "execution_count": null,
      "outputs": [
        {
          "output_type": "stream",
          "name": "stdout",
          "text": [
            "1\n",
            "2\n",
            "3\n",
            "4\n",
            "5\n"
          ]
        }
      ]
    },
    {
      "cell_type": "code",
      "source": [
        "for i in range (2, 11, 2) :\n",
        "  print(i)\n",
        "\n",
        "sum = 0\n",
        "for i in range (2, 11, 2) :\n",
        "  sum += i\n",
        "print(sum)"
      ],
      "metadata": {
        "colab": {
          "base_uri": "https://localhost:8080/"
        },
        "id": "dPT9TTPBf_Eb",
        "outputId": "3a8ac090-ff29-4c39-be41-1a4068c481c3"
      },
      "execution_count": null,
      "outputs": [
        {
          "output_type": "stream",
          "name": "stdout",
          "text": [
            "2\n",
            "4\n",
            "6\n",
            "8\n",
            "10\n",
            "30\n"
          ]
        }
      ]
    },
    {
      "cell_type": "code",
      "source": [
        "def func(x,y):\n",
        "  plus = x+y\n",
        "  minus = x-y\n",
        "  return plus, minus\n",
        "\n",
        "a, b = func(10,20)\n",
        "print(a)\n",
        "print(b)"
      ],
      "metadata": {
        "colab": {
          "base_uri": "https://localhost:8080/"
        },
        "id": "iR6suGGZiIZf",
        "outputId": "a2e74da8-a9c7-4eae-f4dd-0a1ab92c8692"
      },
      "execution_count": null,
      "outputs": [
        {
          "output_type": "stream",
          "name": "stdout",
          "text": [
            "30\n",
            "-10\n"
          ]
        }
      ]
    },
    {
      "cell_type": "code",
      "source": [
        "def func(score):\n",
        "  if (100 >= score >= 90) : #if는 맨 앞에 한 번만 올 수 있다 \n",
        "    grade = \"A\"\n",
        "  elif (90> score >= 80) : \n",
        "    grade = \"B\"\n",
        "  elif (80> score >= 70) :\n",
        "    grade = \"C\"\n",
        "  else :\n",
        "    grade = \"F\"\n",
        "  return grade\n",
        "\n",
        "i = func(100)\n",
        "print(i)"
      ],
      "metadata": {
        "colab": {
          "base_uri": "https://localhost:8080/"
        },
        "id": "NujFUkl6iw8Y",
        "outputId": "d5026c7b-ce53-4933-979b-546da3481127"
      },
      "execution_count": 31,
      "outputs": [
        {
          "output_type": "stream",
          "name": "stdout",
          "text": [
            "A\n"
          ]
        }
      ]
    },
    {
      "cell_type": "code",
      "source": [
        "s = \"abcdefg\"\n",
        "print(s[-1])\n",
        "print(s[1:4]) #1번째 자리 이후부터 4번째 자리까지\n",
        "print(s[3:]) #3번째 자리 이후부터 끝까지\n",
        "print(s[:2]) #2번째 자리까지\n",
        "print(len(s)) #전체길이 7\n",
        "print(s)\n",
        "s1 = s + \"xyz\"\n",
        "print(s1)"
      ],
      "metadata": {
        "colab": {
          "base_uri": "https://localhost:8080/"
        },
        "id": "PABUzs8FlaPy",
        "outputId": "9aca9fb6-3e38-4a7c-9195-b938c79ddaa6"
      },
      "execution_count": 10,
      "outputs": [
        {
          "output_type": "stream",
          "name": "stdout",
          "text": [
            "g\n",
            "bcd\n",
            "defg\n",
            "ab\n",
            "7\n",
            "abcdefg\n",
            "abcdefgxyz\n"
          ]
        }
      ]
    },
    {
      "cell_type": "code",
      "source": [
        "#S.count(\"문자열\") # 문자열이 몇 번 등장하는지\n",
        "#find(\"문자열\") # 문자열이 등장하는 위치\n",
        "#rfind(\"문자열\") # 문자열의 등장하는 위치를 뒤에서부터\n",
        "#index(\"문자열\") # same find\n",
        "\n",
        "s = \"어떤 별에 사는 꽃을 좋아한다면 밤에 하늘을 쳐다보는게 즐거울 거야 어느 별이나 다 꽃이 필테니까\"\n",
        "s.split() #단어별로 잘라줌\n",
        "print(s.count(\"별\")) #문자열에서 해당 문자가 몇 번 등장하는지\n",
        "print(s.find(\"꽃\")) #문자열에서 해당 문자가 처음으로 등장하는 위치 = s.Index(\"문자열\")\n",
        "print(s.rfind(\"꽃\")) #문자열에서 해당 문자가 마지막으로 등장하는 위치\n",
        "\n",
        "s1 = \"aa, bb, cc, dd\"\n",
        "s1.split(',')"
      ],
      "metadata": {
        "colab": {
          "base_uri": "https://localhost:8080/"
        },
        "id": "7OLiQdgxm63C",
        "outputId": "6a1fa9d7-3e42-4bf9-d38b-7b11667aefe3"
      },
      "execution_count": 23,
      "outputs": [
        {
          "output_type": "stream",
          "name": "stdout",
          "text": [
            "2\n",
            "9\n",
            "47\n"
          ]
        },
        {
          "output_type": "execute_result",
          "data": {
            "text/plain": [
              "['aa', ' bb', ' cc', ' dd']"
            ]
          },
          "metadata": {},
          "execution_count": 23
        }
      ]
    }
  ],
  "metadata": {
    "colab": {
      "name": "Colaboratory에 오신 것을 환영합니다",
      "provenance": [],
      "include_colab_link": true
    },
    "kernelspec": {
      "display_name": "Python 3",
      "name": "python3"
    }
  },
  "nbformat": 4,
  "nbformat_minor": 0
}