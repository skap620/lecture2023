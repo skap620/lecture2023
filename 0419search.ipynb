{
  "nbformat": 4,
  "nbformat_minor": 0,
  "metadata": {
    "colab": {
      "provenance": [],
      "authorship_tag": "ABX9TyOUbojnKspOU2WE7JGh8fSA",
      "include_colab_link": true
    },
    "kernelspec": {
      "name": "python3",
      "display_name": "Python 3"
    },
    "language_info": {
      "name": "python"
    }
  },
  "cells": [
    {
      "cell_type": "markdown",
      "metadata": {
        "id": "view-in-github",
        "colab_type": "text"
      },
      "source": [
        "<a href=\"https://colab.research.google.com/github/skap620/lecture2023/blob/main/0419search.ipynb\" target=\"_parent\"><img src=\"https://colab.research.google.com/assets/colab-badge.svg\" alt=\"Open In Colab\"/></a>"
      ]
    },
    {
      "cell_type": "code",
      "execution_count": null,
      "metadata": {
        "colab": {
          "base_uri": "https://localhost:8080/"
        },
        "id": "aH3NAcklsj_k",
        "outputId": "433c6f08-7eed-436c-dd38-3c48b16ed5cb"
      },
      "outputs": [
        {
          "output_type": "stream",
          "name": "stdout",
          "text": [
            "찾는값: 7\n",
            "find\n"
          ]
        }
      ],
      "source": [
        "a = [1,3,5,7,9]\n",
        "\n",
        "def find(d):\n",
        "  for i in range(0, len(a)):\n",
        "    if a[i]==d:\n",
        "      print(\"find\")\n",
        "      return\n",
        "  print(\"not found\")\n",
        "\n",
        "find(int(input(\"찾는값: \")))"
      ]
    },
    {
      "cell_type": "code",
      "source": [
        "a = [1,3,5,7,9,11,13,15,17,19]\n",
        "\n",
        "def binSearch(d):\n",
        "  start=0\n",
        "  end=len(a)-1\n",
        "\n",
        "  while(start <= end):\n",
        "    mid = (start+end)//2\n",
        "    if a[mid] == d:\n",
        "      print(\"find\")\n",
        "      return\n",
        "    else:\n",
        "      if a [mid] > d:\n",
        "        end = mid-1\n",
        "      else:\n",
        "        start = mid+1\n",
        "  print(\"not found\")\n",
        "\n",
        "binSearch(int(input(\"찾는값: \")))"
      ],
      "metadata": {
        "colab": {
          "base_uri": "https://localhost:8080/"
        },
        "id": "i5MZiKrfuB6I",
        "outputId": "f8497be4-73de-471d-c27b-23174ab4a815"
      },
      "execution_count": null,
      "outputs": [
        {
          "output_type": "stream",
          "name": "stdout",
          "text": [
            "찾는값: 11\n",
            "find\n"
          ]
        }
      ]
    },
    {
      "cell_type": "code",
      "source": [
        "#@title NAVER(2016)\n",
        "#랜덤출력\n",
        "import random \n",
        "data_list = random.sample(range(100), 10)\n",
        "print(data_list)\n",
        "\n",
        "#짝수의 개수\n",
        "def evenNum():\n",
        "  for i in range(0,9):\n",
        "    if (data_list[i]/2 == 0):\n",
        "      even += 1\n",
        "      return even\n",
        "  print(even)\n",
        "\n",
        "#같은 값이 반복되는지 여부, 어떤거, 몇번\n",
        "def same():\n",
        "  for i in range(0, 9):\n",
        "    if "
      ],
      "metadata": {
        "colab": {
          "base_uri": "https://localhost:8080/"
        },
        "id": "zmBmlaiN05eC",
        "outputId": "0992f747-dc4f-40bd-fed7-b8477589d2f2"
      },
      "execution_count": null,
      "outputs": [
        {
          "output_type": "stream",
          "name": "stdout",
          "text": [
            "[93, 98, 24, 20, 91, 49, 40, 74, 53, 34]\n"
          ]
        }
      ]
    },
    {
      "cell_type": "code",
      "source": [
        "print(\"입력이 \" + input() + \"일 경우\")\n",
        "string = input()\n",
        "for i in range()  \n",
        "  result[i] = string[]\n",
        "print(\"2개의 단어 \")"
      ],
      "metadata": {
        "id": "jk2VIacx5QlU"
      },
      "execution_count": null,
      "outputs": []
    }
  ]
}