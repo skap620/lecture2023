{
  "nbformat": 4,
  "nbformat_minor": 0,
  "metadata": {
    "colab": {
      "provenance": [],
      "authorship_tag": "ABX9TyPnlguNjXFIaf0MGNh3zIsr",
      "include_colab_link": true
    },
    "kernelspec": {
      "name": "python3",
      "display_name": "Python 3"
    },
    "language_info": {
      "name": "python"
    }
  },
  "cells": [
    {
      "cell_type": "markdown",
      "metadata": {
        "id": "view-in-github",
        "colab_type": "text"
      },
      "source": [
        "<a href=\"https://colab.research.google.com/github/skap620/lecture2023/blob/main/0322.ipynb\" target=\"_parent\"><img src=\"https://colab.research.google.com/assets/colab-badge.svg\" alt=\"Open In Colab\"/></a>"
      ]
    },
    {
      "cell_type": "markdown",
      "source": [
        "Copyright 이가영, 3/22, c40502446@gmail.com"
      ],
      "metadata": {
        "id": "Mit49dOmf4GS"
      }
    },
    {
      "cell_type": "code",
      "source": [
        "a = [1, 3, 5, 7, 9]\n",
        "a.append(\"hi\") #추가한다는 의미\n",
        "a\n",
        "\n",
        "a[2:5]\n",
        "\n",
        "len(a)"
      ],
      "metadata": {
        "colab": {
          "base_uri": "https://localhost:8080/"
        },
        "id": "gckvy_ywgDCm",
        "outputId": "4cf56e7d-9bc7-4455-8ebf-dbd1c6088e78"
      },
      "execution_count": 13,
      "outputs": [
        {
          "output_type": "execute_result",
          "data": {
            "text/plain": [
              "6"
            ]
          },
          "metadata": {},
          "execution_count": 13
        }
      ]
    },
    {
      "cell_type": "code",
      "source": [
        "A = []\n",
        "A.append(0)\n",
        "A.append(1)\n",
        "A.append(2)\n",
        "A.append(3)\n",
        "A.append(4)\n",
        "\n",
        "A[1:3]"
      ],
      "metadata": {
        "colab": {
          "base_uri": "https://localhost:8080/"
        },
        "id": "E0H9_upCiOsN",
        "outputId": "4cb96c43-6294-4840-faf3-0215482edeb8"
      },
      "execution_count": 25,
      "outputs": [
        {
          "output_type": "execute_result",
          "data": {
            "text/plain": [
              "[1, 2]"
            ]
          },
          "metadata": {},
          "execution_count": 25
        }
      ]
    },
    {
      "cell_type": "code",
      "source": [
        "s = [\"에스파\", \"아이브\", \"뉴진스\", \"잇지\"]\n",
        "s[-1]\n",
        "s.append(\"트와이스\")\n",
        "s[1] = \"유진\"\n",
        "del(s[1])\n",
        "s"
      ],
      "metadata": {
        "colab": {
          "base_uri": "https://localhost:8080/"
        },
        "id": "a42BcmhckCkn",
        "outputId": "0f4414db-baee-42fc-e93b-ea46add874c8"
      },
      "execution_count": 22,
      "outputs": [
        {
          "output_type": "execute_result",
          "data": {
            "text/plain": [
              "['에스파', '뉴진스', '잇지', '트와이스']"
            ]
          },
          "metadata": {},
          "execution_count": 22
        }
      ]
    },
    {
      "cell_type": "code",
      "source": [
        "a=[99,3,22,0]\n",
        "a.append(88) #88 맨 뒤에 추가\n",
        "a.pop() #88 다시 없애기\n",
        "a.sort() # 정렬\n",
        "a.reverse() #반대로\n",
        "a.index(22) #1 출력\n",
        "a.insert(3, 1) #3번 자리에 1 삽입\n",
        "a.clear() #초기화\n",
        "a"
      ],
      "metadata": {
        "colab": {
          "base_uri": "https://localhost:8080/"
        },
        "id": "TkkOfYqgkxaf",
        "outputId": "19ca2b36-2dc4-41e1-ffdd-75dcca3c6f6f"
      },
      "execution_count": 33,
      "outputs": [
        {
          "output_type": "execute_result",
          "data": {
            "text/plain": [
              "[]"
            ]
          },
          "metadata": {},
          "execution_count": 33
        }
      ]
    },
    {
      "cell_type": "markdown",
      "source": [
        "Copyright, 이가영, 3/22, c40502446@gmail.com"
      ],
      "metadata": {
        "id": "qcbFEu4Hn4Jn"
      }
    },
    {
      "cell_type": "code",
      "source": [
        "idol = [\"에스파\", \"아이브\", \"뉴진스\", \"잇지\"]\n",
        "\n",
        "def Myappend(a):\n",
        "  idol.append(a)\n",
        "\n",
        "def Mypop():\n",
        "  x = idol[len(idol)-1]\n",
        "  del(idol[len(idol)-1])\n",
        "  return x\n",
        "\n",
        "def Myindex(a):\n",
        "  for i in range(0, len(idol), 1) :\n",
        "    if (idol[i] == a):\n",
        "      break\n",
        "    return\n",
        "\n",
        "def Myinsert(a, b):\n",
        "  idol.append(None)\n",
        "\n",
        "  for i in range(len(idol)-1, a, -1):\n",
        "    idol[i] = idol[i-1]\n",
        "\n",
        "  idol[a] = b\n",
        "\n",
        "#def Myremove(a):\n",
        "\n",
        "def Mylen():\n",
        "  len(idol)\n",
        "\n",
        "def Myswap(a, b):\n",
        "  temp = 0\n",
        "  idol[temp] = idol[a]\n",
        "  idol[a] = idol [b]\n",
        "  idol[b] = idol[temp]\n",
        "\n",
        "print(Mylen())\n",
        "print(Myswap(0,1))"
      ],
      "metadata": {
        "colab": {
          "base_uri": "https://localhost:8080/"
        },
        "id": "1qw6_k_4mPCR",
        "outputId": "29b0bcb5-08bc-4aed-d2b5-b3eabbbb412e"
      },
      "execution_count": 48,
      "outputs": [
        {
          "output_type": "stream",
          "name": "stdout",
          "text": [
            "None\n",
            "None\n"
          ]
        }
      ]
    },
    {
      "cell_type": "code",
      "source": [
        "arr = []\n",
        "for i in range (0, 4):\n",
        "  arr.append(int(input(\"정수 입력:\")))\n",
        "\n",
        "def Mysort():\n",
        "  temp = 0\n",
        "  for i in range(0, len(arr), 1):\n",
        "    if arr[i] > arr[i+1]:\n",
        "      arr[temp] = arr[i]\n",
        "      arr[i] = arr[i+1]\n",
        "      arr[i+1] = arr[temp]\n",
        "arr.Mysort()\n",
        "\n",
        "sum = arr[3] - arr[0]\n",
        "print(sum)"
      ],
      "metadata": {
        "colab": {
          "base_uri": "https://localhost:8080/",
          "height": 299
        },
        "id": "HF2zePfNt_3k",
        "outputId": "545c6b9b-f5c6-4939-96f8-751d01e3998d"
      },
      "execution_count": 56,
      "outputs": [
        {
          "name": "stdout",
          "output_type": "stream",
          "text": [
            "정수 입력:3\n",
            "정수 입력:1\n",
            "정수 입력:\n"
          ]
        },
        {
          "output_type": "error",
          "ename": "ValueError",
          "evalue": "ignored",
          "traceback": [
            "\u001b[0;31m---------------------------------------------------------------------------\u001b[0m",
            "\u001b[0;31mValueError\u001b[0m                                Traceback (most recent call last)",
            "\u001b[0;32m<ipython-input-56-30908b7327e5>\u001b[0m in \u001b[0;36m<module>\u001b[0;34m\u001b[0m\n\u001b[1;32m      1\u001b[0m \u001b[0marr\u001b[0m \u001b[0;34m=\u001b[0m \u001b[0;34m[\u001b[0m\u001b[0;34m]\u001b[0m\u001b[0;34m\u001b[0m\u001b[0;34m\u001b[0m\u001b[0m\n\u001b[1;32m      2\u001b[0m \u001b[0;32mfor\u001b[0m \u001b[0mi\u001b[0m \u001b[0;32min\u001b[0m \u001b[0mrange\u001b[0m \u001b[0;34m(\u001b[0m\u001b[0;36m0\u001b[0m\u001b[0;34m,\u001b[0m \u001b[0;36m4\u001b[0m\u001b[0;34m)\u001b[0m\u001b[0;34m:\u001b[0m\u001b[0;34m\u001b[0m\u001b[0;34m\u001b[0m\u001b[0m\n\u001b[0;32m----> 3\u001b[0;31m   \u001b[0marr\u001b[0m\u001b[0;34m.\u001b[0m\u001b[0mappend\u001b[0m\u001b[0;34m(\u001b[0m\u001b[0mint\u001b[0m\u001b[0;34m(\u001b[0m\u001b[0minput\u001b[0m\u001b[0;34m(\u001b[0m\u001b[0;34m\"정수 입력:\"\u001b[0m\u001b[0;34m)\u001b[0m\u001b[0;34m)\u001b[0m\u001b[0;34m)\u001b[0m\u001b[0;34m\u001b[0m\u001b[0;34m\u001b[0m\u001b[0m\n\u001b[0m\u001b[1;32m      4\u001b[0m \u001b[0;34m\u001b[0m\u001b[0m\n\u001b[1;32m      5\u001b[0m \u001b[0;32mdef\u001b[0m \u001b[0mMysort\u001b[0m\u001b[0;34m(\u001b[0m\u001b[0;34m)\u001b[0m\u001b[0;34m:\u001b[0m\u001b[0;34m\u001b[0m\u001b[0;34m\u001b[0m\u001b[0m\n",
            "\u001b[0;31mValueError\u001b[0m: invalid literal for int() with base 10: ''"
          ]
        }
      ]
    }
  ]
}