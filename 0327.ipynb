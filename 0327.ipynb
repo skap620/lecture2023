{
  "nbformat": 4,
  "nbformat_minor": 0,
  "metadata": {
    "colab": {
      "provenance": [],
      "authorship_tag": "ABX9TyOvpEUAdIdlr0XazPTitWKH",
      "include_colab_link": true
    },
    "kernelspec": {
      "name": "python3",
      "display_name": "Python 3"
    },
    "language_info": {
      "name": "python"
    }
  },
  "cells": [
    {
      "cell_type": "markdown",
      "metadata": {
        "id": "view-in-github",
        "colab_type": "text"
      },
      "source": [
        "<a href=\"https://colab.research.google.com/github/skap620/lecture2023/blob/main/0327.ipynb\" target=\"_parent\"><img src=\"https://colab.research.google.com/assets/colab-badge.svg\" alt=\"Open In Colab\"/></a>"
      ]
    },
    {
      "cell_type": "code",
      "execution_count": 1,
      "metadata": {
        "colab": {
          "base_uri": "https://localhost:8080/"
        },
        "id": "cu7PcWHBP-9c",
        "outputId": "84608b90-64d8-4b62-da4c-2994f2ecbc9b"
      },
      "outputs": [
        {
          "output_type": "stream",
          "name": "stdout",
          "text": [
            " \n",
            "12 \n",
            "34 \n",
            "56"
          ]
        }
      ],
      "source": [
        "import numpy as np\n",
        "a = [1,2,3,4,5,6]\n",
        "\n",
        "a = np.reshape(a, (3,2))\n",
        "for i in range (0,3):\n",
        "  print(' ')\n",
        "  for j in range(0,2):\n",
        "    print(a[i][j], end='')"
      ]
    },
    {
      "cell_type": "code",
      "source": [
        "import numpy as np\n",
        "a = []\n",
        "\n",
        "for i in range (0,3):\n",
        "  for j in range (0,3):\n",
        "    a.append(int(input(\"입력값: \")))\n",
        "\n",
        "a = np.reshape(a, (3,3))\n",
        "for i in range (0,3):\n",
        "  print(' ')\n",
        "  for j in range (0,3):\n",
        "    print(a[i][j], end = '')"
      ],
      "metadata": {
        "colab": {
          "base_uri": "https://localhost:8080/"
        },
        "id": "Q_ChJuq5Qy4l",
        "outputId": "79ece1d0-0ea5-45e2-cc88-feb179539e5e"
      },
      "execution_count": 2,
      "outputs": [
        {
          "output_type": "stream",
          "name": "stdout",
          "text": [
            "입력값: 1\n",
            "입력값: 2\n",
            "입력값: 3\n",
            "입력값: 4\n",
            "입력값: 5\n",
            "입력값: 6\n",
            "입력값: 7\n",
            "입력값: 8\n",
            "입력값: 9\n",
            " \n",
            "123 \n",
            "456 \n",
            "789"
          ]
        }
      ]
    },
    {
      "cell_type": "code",
      "source": [
        "import numpy as np\n",
        "a = [8,17,5,18, 5, 9, 1, 2, 5, 4]\n",
        "count = 0\n",
        "\n",
        "#짝수의 개수\n",
        "for i in range (0,10,1) :\n",
        "  if (a[i]%2 == 0) :\n",
        "    count += 1\n",
        "print(\"짝수의 개수: \", count)\n",
        "\n",
        "#같은 값 반복\n",
        "answer = False\n",
        "for i in range (0,10,1):\n",
        "  k=a[i]\n",
        "  for j in range (i+1,10,1):\n",
        "    if a[i] == a[j]:\n",
        "      answer = True\n",
        "      break\n",
        "print(\"같은 값이 반복되는지 여부: \", answer)\n",
        "\n",
        "#최대값과 최소값의 차이\n",
        "max = a[0]\n",
        "min = a[0]\n",
        "for i in a:\n",
        "  if (max < a[i]):\n",
        "    max = a[i]\n",
        "  if (min > a[i]):\n",
        "    min = a[i]\n",
        "print(\"최대값과 최솟값의 차이: \", max - min)"
      ],
      "metadata": {
        "colab": {
          "base_uri": "https://localhost:8080/",
          "height": 281
        },
        "id": "TkClUZI_TGVK",
        "outputId": "4a850ff7-5233-42c3-8a34-99f14ce65e41"
      },
      "execution_count": 9,
      "outputs": [
        {
          "output_type": "stream",
          "name": "stdout",
          "text": [
            "짝수의 개수:  4\n",
            "같은 값이 반복되는지 여부:  True\n"
          ]
        },
        {
          "output_type": "error",
          "ename": "IndexError",
          "evalue": "ignored",
          "traceback": [
            "\u001b[0;31m---------------------------------------------------------------------------\u001b[0m",
            "\u001b[0;31mIndexError\u001b[0m                                Traceback (most recent call last)",
            "\u001b[0;32m<ipython-input-9-008fbb68cbcd>\u001b[0m in \u001b[0;36m<module>\u001b[0;34m\u001b[0m\n\u001b[1;32m     23\u001b[0m \u001b[0mmin\u001b[0m \u001b[0;34m=\u001b[0m \u001b[0ma\u001b[0m\u001b[0;34m[\u001b[0m\u001b[0;36m0\u001b[0m\u001b[0;34m]\u001b[0m\u001b[0;34m\u001b[0m\u001b[0;34m\u001b[0m\u001b[0m\n\u001b[1;32m     24\u001b[0m \u001b[0;32mfor\u001b[0m \u001b[0mi\u001b[0m \u001b[0;32min\u001b[0m \u001b[0ma\u001b[0m\u001b[0;34m:\u001b[0m\u001b[0;34m\u001b[0m\u001b[0;34m\u001b[0m\u001b[0m\n\u001b[0;32m---> 25\u001b[0;31m   \u001b[0;32mif\u001b[0m \u001b[0;34m(\u001b[0m\u001b[0mmax\u001b[0m \u001b[0;34m<\u001b[0m \u001b[0ma\u001b[0m\u001b[0;34m[\u001b[0m\u001b[0mi\u001b[0m\u001b[0;34m]\u001b[0m\u001b[0;34m)\u001b[0m\u001b[0;34m:\u001b[0m\u001b[0;34m\u001b[0m\u001b[0;34m\u001b[0m\u001b[0m\n\u001b[0m\u001b[1;32m     26\u001b[0m     \u001b[0mmax\u001b[0m \u001b[0;34m=\u001b[0m \u001b[0ma\u001b[0m\u001b[0;34m[\u001b[0m\u001b[0mi\u001b[0m\u001b[0;34m]\u001b[0m\u001b[0;34m\u001b[0m\u001b[0;34m\u001b[0m\u001b[0m\n\u001b[1;32m     27\u001b[0m   \u001b[0;32mif\u001b[0m \u001b[0;34m(\u001b[0m\u001b[0mmin\u001b[0m \u001b[0;34m>\u001b[0m \u001b[0ma\u001b[0m\u001b[0;34m[\u001b[0m\u001b[0mi\u001b[0m\u001b[0;34m]\u001b[0m\u001b[0;34m)\u001b[0m\u001b[0;34m:\u001b[0m\u001b[0;34m\u001b[0m\u001b[0;34m\u001b[0m\u001b[0m\n",
            "\u001b[0;31mIndexError\u001b[0m: list index out of range"
          ]
        }
      ]
    }
  ]
}