{
  "nbformat": 4,
  "nbformat_minor": 0,
  "metadata": {
    "colab": {
      "provenance": [],
      "authorship_tag": "ABX9TyN+dcJ3dJdRxAavqUbPpF1S",
      "include_colab_link": true
    },
    "kernelspec": {
      "name": "python3",
      "display_name": "Python 3"
    },
    "language_info": {
      "name": "python"
    }
  },
  "cells": [
    {
      "cell_type": "markdown",
      "metadata": {
        "id": "view-in-github",
        "colab_type": "text"
      },
      "source": [
        "<a href=\"https://colab.research.google.com/github/skap620/lecture2023/blob/main/0412.ipynb\" target=\"_parent\"><img src=\"https://colab.research.google.com/assets/colab-badge.svg\" alt=\"Open In Colab\"/></a>"
      ]
    },
    {
      "cell_type": "code",
      "execution_count": null,
      "metadata": {
        "colab": {
          "base_uri": "https://localhost:8080/"
        },
        "id": "tJppBAYT4VLA",
        "outputId": "cc053453-4fc5-4196-ec8e-87e2ac158a86"
      },
      "outputs": [
        {
          "output_type": "stream",
          "name": "stdout",
          "text": [
            "Stack is full!\n",
            "잇지\n",
            "아이즈원\n"
          ]
        }
      ],
      "source": [
        "FULL = 4\n",
        "stack = [\"에스파\",\"아이브\",\"뉴진스\",\"잇지\"]\n",
        "top=3\n",
        "\n",
        "#isStackFull\n",
        "def isStackFull():\n",
        "  global FULL,stack,top\n",
        "  if (top>=FULL-1):\n",
        "    return True\n",
        "  else:\n",
        "    return False\n",
        "\n",
        "#isStackEmpty\n",
        "def isStackEmpty():\n",
        "  global FULL,stack,top\n",
        "  if (top<=-1): #top이 음수이면 스택이 빈 것이다\n",
        "    return True\n",
        "  else:\n",
        "    return False\n",
        "\n",
        "#push(값)\n",
        "def push(a):\n",
        "  global FULL,stack,top\n",
        "  if(isStackFull()): #자리가 있는지 없는지 확인한다\n",
        "    print(\"Stack is full!\")\n",
        "    return\n",
        "  top += 1 #자리가 남았다면\n",
        "  stack[top] = a\n",
        "\n",
        "push(\"aa\")\n",
        "\n",
        "#pop()\n",
        "def pop():\n",
        "  global FULL,stack,top\n",
        "  if(isStackEmpty()):\n",
        "    print(\"Stack is empty!\")\n",
        "    return None\n",
        "  a = stack[top] #가장 위(뒤)에 있는 것\n",
        "  stack[top] = None\n",
        "  top -= 1\n",
        "  return a\n",
        "\n",
        "print(pop())\n",
        "push(\"아이즈원\")\n",
        "print(pop())\n",
        "#링크드리스트로 구현해보기"
      ]
    },
    {
      "cell_type": "code",
      "source": [
        "FULL = int(input(\"size: \")) #스택 크기 받기\n",
        "stack = [None for _ in range(FULL)] #스택 크기만큼 빈 스택 만들기\n",
        "top = -1\n",
        "\n",
        "def check(e):\n",
        "  for c in e:\n",
        "    if c in '(':\n",
        "      push(c)\n",
        "    else:\n",
        "      if c in ')':\n",
        "        a = pop()\n",
        "        if a =='(':\n",
        "          continue\n",
        "        else:\n",
        "          return False\n",
        "  if isStackEmpty():\n",
        "    return True\n",
        "  else:\n",
        "    return False\n",
        "\n",
        "e = input(\"수식: \")\n",
        "print(check(e))"
      ],
      "metadata": {
        "colab": {
          "base_uri": "https://localhost:8080/"
        },
        "id": "f30kzrRVrbfs",
        "outputId": "b86de07d-6bcc-47f4-cc70-c0ead4693c26"
      },
      "execution_count": null,
      "outputs": [
        {
          "output_type": "stream",
          "name": "stdout",
          "text": [
            "size: 2\n",
            "수식: ()\n",
            "True\n"
          ]
        }
      ]
    },
    {
      "cell_type": "code",
      "source": [
        "class Node:\n",
        "  def __init__(self,data):\n",
        "    self.data = data\n",
        "    self.link = None\n",
        "\n",
        "#isEmpty\n",
        "FULL = int(input(\"Queue size: \"))\n",
        "size = 0\n",
        "front = None\n",
        "rear = None\n",
        "\n",
        "def isEmpty():\n",
        "  global front\n",
        "  return front == None\n",
        "\n",
        "#isFull\n",
        "def isFull():\n",
        "  global size, front\n",
        "  return size >= FULL #다 찼는지 아닌지\n",
        "\n",
        "#enqueue(item)\n",
        "def enqueue(data):\n",
        "  global size, front, rear\n",
        "  if isFull(): #줄 설 자리 있는지 확인\n",
        "    print(\"Queue is Full\")\n",
        "    return # 자리 없으면 끝내기\n",
        "  n = Node(data) #자리 있으면 새 노드 생성\n",
        "  size+=1\n",
        "  if (rear==None):\n",
        "    front = rear = n\n",
        "  else:\n",
        "    rear.link = n\n",
        "    rear = n\n",
        "\n",
        "#dequeue\n",
        "def dequeue():\n",
        "  global size, front, rear\n",
        "  if isEmpty(): #큐가 비어있는지 확인하기\n",
        "    print(\"Queue is empty\")\n",
        "    return None\n",
        "  size -= 1\n",
        "  n = front #프론트를 없애야함\n",
        "  front = n.link #프론트를 하나 다음 노드로 옮겨준다\n",
        "  return n.data\n",
        "\n",
        "#printqueue\n",
        "def printqueue():\n",
        "  global size, front, rear\n",
        "  current = front\n",
        "  while current != None:\n",
        "    print(current.data)\n",
        "    current = current.link\n",
        "\n",
        "#아래 코드를 보고 결과가 어떻게 나올지 쓰기 (시험 출제)\n",
        "print(dequeue())\n",
        "enqueue(\"에스파\")\n",
        "printqueue()\n",
        "enqueue(\"아이브\")\n",
        "printqueue()\n",
        "enqueue(\"르세라핌\")\n",
        "printqueue()\n",
        "enqueue(\"잇지\")\n",
        "printqueue()\n",
        "print(dequeue())"
      ],
      "metadata": {
        "colab": {
          "base_uri": "https://localhost:8080/"
        },
        "id": "X-wd1qjb2OCt",
        "outputId": "c5ce321e-ffe7-48e5-a117-a88fa1492de2"
      },
      "execution_count": null,
      "outputs": [
        {
          "output_type": "stream",
          "name": "stdout",
          "text": [
            "Queue size: 3\n",
            "Queue is empty\n",
            "None\n",
            "에스파\n",
            "에스파\n",
            "아이브\n",
            "에스파\n",
            "아이브\n",
            "르세라핌\n",
            "Queue is Full\n",
            "에스파\n",
            "아이브\n",
            "르세라핌\n",
            "에스파\n"
          ]
        }
      ]
    },
    {
      "cell_type": "code",
      "source": [
        "#비어있는 스택과 큐 생성\n",
        "FULL = 4\n",
        "stack = []\n",
        "top=3\n",
        "\n",
        "FULL = int(4)\n",
        "size = 0\n",
        "front = None\n",
        "rear = None\n",
        "\n",
        "push(A)\n",
        "print(pop())\n",
        "\n",
        "#답 D"
      ],
      "metadata": {
        "colab": {
          "base_uri": "https://localhost:8080/",
          "height": 245
        },
        "id": "YyrK4Sx-aRTn",
        "outputId": "15030702-15d2-48e0-cf53-0699060ad868"
      },
      "execution_count": null,
      "outputs": [
        {
          "output_type": "error",
          "ename": "NameError",
          "evalue": "ignored",
          "traceback": [
            "\u001b[0;31m---------------------------------------------------------------------------\u001b[0m",
            "\u001b[0;31mNameError\u001b[0m                                 Traceback (most recent call last)",
            "\u001b[0;32m<ipython-input-1-3bf20a6a0eec>\u001b[0m in \u001b[0;36m<cell line: 11>\u001b[0;34m()\u001b[0m\n\u001b[1;32m      9\u001b[0m \u001b[0mrear\u001b[0m \u001b[0;34m=\u001b[0m \u001b[0;32mNone\u001b[0m\u001b[0;34m\u001b[0m\u001b[0;34m\u001b[0m\u001b[0m\n\u001b[1;32m     10\u001b[0m \u001b[0;34m\u001b[0m\u001b[0m\n\u001b[0;32m---> 11\u001b[0;31m \u001b[0mpush\u001b[0m\u001b[0;34m(\u001b[0m\u001b[0mA\u001b[0m\u001b[0;34m)\u001b[0m\u001b[0;34m\u001b[0m\u001b[0;34m\u001b[0m\u001b[0m\n\u001b[0m\u001b[1;32m     12\u001b[0m \u001b[0mprint\u001b[0m\u001b[0;34m(\u001b[0m\u001b[0mpop\u001b[0m\u001b[0;34m(\u001b[0m\u001b[0;34m)\u001b[0m\u001b[0;34m)\u001b[0m\u001b[0;34m\u001b[0m\u001b[0;34m\u001b[0m\u001b[0m\n\u001b[1;32m     13\u001b[0m \u001b[0;34m\u001b[0m\u001b[0m\n",
            "\u001b[0;31mNameError\u001b[0m: name 'push' is not defined"
          ]
        }
      ]
    },
    {
      "cell_type": "code",
      "source": [
        "#\n",
        "FULL = int(4)\n",
        "size = 0\n",
        "front = None\n",
        "rear = None\n",
        "\n",
        "enqueue(A)\n",
        "\n",
        "#D. DCBA"
      ],
      "metadata": {
        "colab": {
          "base_uri": "https://localhost:8080/",
          "height": 209
        },
        "id": "msBPDYgmcHHJ",
        "outputId": "c59981c2-64f2-4ebe-d6c1-a8f257bb956c"
      },
      "execution_count": null,
      "outputs": [
        {
          "output_type": "error",
          "ename": "NameError",
          "evalue": "ignored",
          "traceback": [
            "\u001b[0;31m---------------------------------------------------------------------------\u001b[0m",
            "\u001b[0;31mNameError\u001b[0m                                 Traceback (most recent call last)",
            "\u001b[0;32m<ipython-input-2-0aba68bac0d4>\u001b[0m in \u001b[0;36m<cell line: 6>\u001b[0;34m()\u001b[0m\n\u001b[1;32m      4\u001b[0m \u001b[0mrear\u001b[0m \u001b[0;34m=\u001b[0m \u001b[0;32mNone\u001b[0m\u001b[0;34m\u001b[0m\u001b[0;34m\u001b[0m\u001b[0m\n\u001b[1;32m      5\u001b[0m \u001b[0;34m\u001b[0m\u001b[0m\n\u001b[0;32m----> 6\u001b[0;31m \u001b[0menqueue\u001b[0m\u001b[0;34m(\u001b[0m\u001b[0mA\u001b[0m\u001b[0;34m)\u001b[0m\u001b[0;34m\u001b[0m\u001b[0;34m\u001b[0m\u001b[0m\n\u001b[0m",
            "\u001b[0;31mNameError\u001b[0m: name 'enqueue' is not defined"
          ]
        }
      ]
    },
    {
      "cell_type": "code",
      "source": [
        "#reverse 만들기\n",
        "queue = [\"A\", \"B\", \"C\", \"D\", \"E\"]\n",
        "stack = []\n",
        "\n",
        "stack = queue.pop()\n",
        "print(stack)"
      ],
      "metadata": {
        "colab": {
          "base_uri": "https://localhost:8080/"
        },
        "id": "nO8ITfYJg3yn",
        "outputId": "90b1a331-3d1b-4723-f29f-fc46bc39a515"
      },
      "execution_count": null,
      "outputs": [
        {
          "output_type": "stream",
          "name": "stdout",
          "text": [
            "E\n"
          ]
        }
      ]
    }
  ]
}