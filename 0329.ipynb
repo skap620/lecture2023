{
  "nbformat": 4,
  "nbformat_minor": 0,
  "metadata": {
    "colab": {
      "provenance": [],
      "authorship_tag": "ABX9TyPGkyMCmXeiWpLSwsij1AjV",
      "include_colab_link": true
    },
    "kernelspec": {
      "name": "python3",
      "display_name": "Python 3"
    },
    "language_info": {
      "name": "python"
    }
  },
  "cells": [
    {
      "cell_type": "markdown",
      "metadata": {
        "id": "view-in-github",
        "colab_type": "text"
      },
      "source": [
        "<a href=\"https://colab.research.google.com/github/skap620/lecture2023/blob/main/0329.ipynb\" target=\"_parent\"><img src=\"https://colab.research.google.com/assets/colab-badge.svg\" alt=\"Open In Colab\"/></a>"
      ]
    },
    {
      "cell_type": "code",
      "execution_count": 1,
      "metadata": {
        "colab": {
          "base_uri": "https://localhost:8080/"
        },
        "id": "m7HoaUE5k61R",
        "outputId": "43fa7771-4050-4aa2-c6e2-1c05eabe74b7"
      },
      "outputs": [
        {
          "output_type": "stream",
          "name": "stdout",
          "text": [
            " \n",
            "0 1 2 3 4  \n",
            "5 6 7 8 9  \n",
            "10 11 12 13 14  \n",
            "15 16 17 18 19  \n",
            "20 21 22 23 24 "
          ]
        }
      ],
      "source": [
        "import numpy as np\n",
        "rows , cols = (5,5)\n",
        "a = [[0 for i in range (cols)] for j in range (rows)]\n",
        "\n",
        "k = 0\n",
        "for i in range(0,rows):\n",
        "  for j in range(0, cols):\n",
        "    a[i][j] = k\n",
        "    k+=1\n",
        "\n",
        "for i in range(0, rows):\n",
        "  print(\" \")\n",
        "  for j in range (0,cols):\n",
        "    print(a[i][j], end=' ')"
      ]
    },
    {
      "cell_type": "code",
      "source": [
        "import numpy as np\n",
        "rows , cols = (5,5)\n",
        "a = [[0 for i in range (cols)] for j in range (rows)]\n",
        "\n",
        "k = 0\n",
        "\n",
        "for j in range(0,cols):\n",
        "  a[0][j] = k\n",
        "  k+=1\n",
        "\n",
        "for i in range(1,rows):\n",
        "  a[i][4] = k\n",
        "  k+=1\n",
        "\n",
        "k=12\n",
        "for j in range(0,cols):\n",
        "  a[4][j] = k\n",
        "  k-=1\n",
        "\n",
        "k=15\n",
        "for i in range(1,rows-1):\n",
        "  a[i][0] = k\n",
        "  k-=1\n",
        "\n",
        "k=16\n",
        "for j in range(1,cols-1):\n",
        "  a[1][j] = k\n",
        "  k+=1\n",
        "\n",
        "for i in range(2,rows-1):\n",
        "  a[i][3] = k\n",
        "  k+=1 \n",
        "\n",
        "k=21\n",
        "for j in range(1,cols-1):\n",
        "  a[1][j] = k\n",
        "  k-=1\n",
        "\n",
        "for i in range(0, rows):\n",
        "  print(\" \")\n",
        "  for j in range (0,cols):\n",
        "    print(a[i][j], end=' ')"
      ],
      "metadata": {
        "colab": {
          "base_uri": "https://localhost:8080/"
        },
        "id": "MZ-WrQ-LmElw",
        "outputId": "7d105014-7a46-454d-9ace-6901056d12c9"
      },
      "execution_count": 51,
      "outputs": [
        {
          "output_type": "stream",
          "name": "stdout",
          "text": [
            " \n",
            "0 1 2 3 4  \n",
            "15 16 17 18 5  \n",
            "14 0 0 19 6  \n",
            "13 0 0 20 7  \n",
            "12 11 10 9 8 "
          ]
        }
      ]
    },
    {
      "cell_type": "code",
      "source": [
        "import numpy as np\n",
        "rows , cols = (5,5)\n",
        "a = [[0 for i in range (cols)] for j in range (rows)]\n",
        "\n",
        "k=1\n",
        "for i in range(0,rows):\n",
        "  for j in range(0,cols):\n",
        "    a[i][j] = k\n",
        "    k+=1\n",
        "\n",
        "for i in range(0,1):\n",
        "  for j in range (0,1):\n",
        "      print(a[i][j], end=' ')\n",
        "\n",
        "for i in range(0,2):\n",
        "  for j in range (0,1):\n",
        "    j += 1\n",
        "    print(a[i][j], end=' ')"
      ],
      "metadata": {
        "colab": {
          "base_uri": "https://localhost:8080/"
        },
        "id": "ibHDxcPgvb6U",
        "outputId": "88a50921-a7d0-42bc-8be9-c13abfab5762"
      },
      "execution_count": 92,
      "outputs": [
        {
          "output_type": "stream",
          "name": "stdout",
          "text": [
            "1 2 7 "
          ]
        }
      ]
    }
  ]
}